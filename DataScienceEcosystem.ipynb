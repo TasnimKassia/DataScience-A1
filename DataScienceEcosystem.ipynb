{
 "cells": [
  {
   "cell_type": "markdown",
   "id": "8fc8e476-7e74-474f-a398-1b9ec87ae5d9",
   "metadata": {},
   "source": [
    "# Data Science Tools and Ecosystem"
   ]
  },
  {
   "cell_type": "markdown",
   "id": "db58d416-3ca2-42d0-bef9-495dfcf9a1b7",
   "metadata": {},
   "source": [
    "## Author\n",
    "Tasnim Kassia"
   ]
  },
  {
   "cell_type": "markdown",
   "id": "338f6c80-08f2-4d8b-9be5-385c7322c4e8",
   "metadata": {},
   "source": [
    "## In this notebook, Data Science Tools and Ecosystem are summarized."
   ]
  },
  {
   "cell_type": "markdown",
   "id": "a0fe5a7d-f496-4e28-b34f-eb79450b38d1",
   "metadata": {},
   "source": [
    "### **Objectives:**\n",
    "- List popular languages for Data Science\n",
    "- List commonly used Libraries\n",
    "- List some Data Science Tools\n",
    "- Introduce simple arithmetic expressions"
   ]
  },
  {
   "cell_type": "markdown",
   "id": "d95c383d-6ac3-4137-9f8e-befb14494b57",
   "metadata": {},
   "source": [
    "### Some of the popular languages that Data Scientists use are:\n",
    "#### 1. Python\n",
    "#### 2. R\n",
    "#### 3. SQL\n",
    "#### 4. Java"
   ]
  },
  {
   "cell_type": "markdown",
   "id": "649dc4f5-f81e-4243-b846-e549d4f11735",
   "metadata": {},
   "source": [
    "### Some of the commonly used libraries used by Data Scientist include:\n",
    "#### 1. Pandas\n",
    "#### 2. ggplot2\n",
    "#### 3. Hadoop\n",
    "#### 4. PowerBI"
   ]
  },
  {
   "cell_type": "markdown",
   "id": "37701d82-2cb5-40ad-aa24-1353b1ea1562",
   "metadata": {},
   "source": [
    "### Table of Data Science Tools\n",
    "| Data Science Tools |\n",
    "|--------------------|\n",
    "| Jupyter Notebook |\n",
    "| RStudio |\n",
    "|VS Code |"
   ]
  },
  {
   "cell_type": "markdown",
   "id": "c34f6c55-be31-4ee8-b3fd-da236d874f5f",
   "metadata": {},
   "source": [
    "### Below are a few examples of evaluating arithmetic expressions in Python\n"
   ]
  },
  {
   "cell_type": "code",
   "execution_count": 14,
   "id": "2db5d998-7f05-4f36-83d4-9f8360529dc3",
   "metadata": {},
   "outputs": [
    {
     "data": {
      "text/plain": [
       "17"
      ]
     },
     "execution_count": 14,
     "metadata": {},
     "output_type": "execute_result"
    }
   ],
   "source": [
    "#this is simple arithmetic expression to multiply and add integers\n",
    "(3*4)+5"
   ]
  },
  {
   "cell_type": "code",
   "execution_count": 16,
   "id": "779a7651-923a-4e78-9d23-3c92b30946f5",
   "metadata": {},
   "outputs": [
    {
     "name": "stdout",
     "output_type": "stream",
     "text": [
      "3.3333333333333335\n"
     ]
    }
   ],
   "source": [
    "#this will convert 200 minutes into hours by dividing by 60\n",
    "min = 200\n",
    "hr = min / 60\n",
    "print(hr)"
   ]
  },
  {
   "cell_type": "markdown",
   "id": "aef08176-95a4-4965-bcc2-d0426d30cb73",
   "metadata": {},
   "source": [
    "##### repo link:\n"
   ]
  },
  {
   "cell_type": "code",
   "execution_count": null,
   "id": "d6e5d749-9bf0-4cd9-ae76-96846beac3b7",
   "metadata": {},
   "outputs": [],
   "source": []
  }
 ],
 "metadata": {
  "kernelspec": {
   "display_name": "Python 3 (ipykernel)",
   "language": "python",
   "name": "python3"
  },
  "language_info": {
   "codemirror_mode": {
    "name": "ipython",
    "version": 3
   },
   "file_extension": ".py",
   "mimetype": "text/x-python",
   "name": "python",
   "nbconvert_exporter": "python",
   "pygments_lexer": "ipython3",
   "version": "3.12.4"
  }
 },
 "nbformat": 4,
 "nbformat_minor": 5
}
